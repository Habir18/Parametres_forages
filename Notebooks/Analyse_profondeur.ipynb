{
 "cells": [
  {
   "cell_type": "code",
   "execution_count": 2,
   "id": "50d134ef-abbb-403c-b4fd-6695941758af",
   "metadata": {},
   "outputs": [],
   "source": [
    "import pandas as pd\n",
    "donnees_techniques = pd.read_csv(\"D:/Formations/Data analysis Python/Data/RT_donnees_techniques_Par_Tch.csv\")"
   ]
  },
  {
   "cell_type": "code",
   "execution_count": 3,
   "id": "73b08fef-fbd5-410a-a71a-2d8a4937e5b6",
   "metadata": {},
   "outputs": [
    {
     "data": {
      "text/html": [
       "<div>\n",
       "<style scoped>\n",
       "    .dataframe tbody tr th:only-of-type {\n",
       "        vertical-align: middle;\n",
       "    }\n",
       "\n",
       "    .dataframe tbody tr th {\n",
       "        vertical-align: top;\n",
       "    }\n",
       "\n",
       "    .dataframe thead th {\n",
       "        text-align: right;\n",
       "    }\n",
       "</style>\n",
       "<table border=\"1\" class=\"dataframe\">\n",
       "  <thead>\n",
       "    <tr style=\"text-align: right;\">\n",
       "      <th></th>\n",
       "      <th>Departement</th>\n",
       "      <th>Commune</th>\n",
       "      <th>Nom_AEV</th>\n",
       "      <th>No_AEV</th>\n",
       "      <th>Type_AEV_</th>\n",
       "      <th>Arrondissement</th>\n",
       "      <th>Village</th>\n",
       "      <th>Localite</th>\n",
       "      <th>Nom_Local</th>\n",
       "      <th>Indice_IRH</th>\n",
       "      <th>...</th>\n",
       "      <th>Compteur</th>\n",
       "      <th>Manometre</th>\n",
       "      <th>Tamis</th>\n",
       "      <th>SONEB</th>\n",
       "      <th>Etat_AEV</th>\n",
       "      <th>Expr1004</th>\n",
       "      <th>Expr1005</th>\n",
       "      <th>A_Ouvrage_Id.Info_Programme</th>\n",
       "      <th>Hauteur_Margelle</th>\n",
       "      <th>Debit_Fin_Foration</th>\n",
       "    </tr>\n",
       "  </thead>\n",
       "  <tbody>\n",
       "    <tr>\n",
       "      <th>0</th>\n",
       "      <td>BORGOU</td>\n",
       "      <td>TCHAOUROU</td>\n",
       "      <td>NaN</td>\n",
       "      <td>NaN</td>\n",
       "      <td>NaN</td>\n",
       "      <td>ALAFIAROU</td>\n",
       "      <td>KODA</td>\n",
       "      <td>Koda</td>\n",
       "      <td>Patanti</td>\n",
       "      <td>SAV-A-0016-04</td>\n",
       "      <td>...</td>\n",
       "      <td>FAUX</td>\n",
       "      <td>FAUX</td>\n",
       "      <td>FAUX</td>\n",
       "      <td>FAUX</td>\n",
       "      <td>NaN</td>\n",
       "      <td>PNUD</td>\n",
       "      <td>PNUD</td>\n",
       "      <td>NaN</td>\n",
       "      <td>0</td>\n",
       "      <td>1.33</td>\n",
       "    </tr>\n",
       "    <tr>\n",
       "      <th>1</th>\n",
       "      <td>BORGOU</td>\n",
       "      <td>TCHAOUROU</td>\n",
       "      <td>NaN</td>\n",
       "      <td>NaN</td>\n",
       "      <td>NaN</td>\n",
       "      <td>BETEROU</td>\n",
       "      <td>BANIGRI</td>\n",
       "      <td>Banigri</td>\n",
       "      <td>BANIGRI</td>\n",
       "      <td>INC-C-0130-04</td>\n",
       "      <td>...</td>\n",
       "      <td>FAUX</td>\n",
       "      <td>FAUX</td>\n",
       "      <td>FAUX</td>\n",
       "      <td>FAUX</td>\n",
       "      <td>NaN</td>\n",
       "      <td>PNUD</td>\n",
       "      <td>UNICEF</td>\n",
       "      <td>NaN</td>\n",
       "      <td>0</td>\n",
       "      <td>0.00</td>\n",
       "    </tr>\n",
       "    <tr>\n",
       "      <th>2</th>\n",
       "      <td>BORGOU</td>\n",
       "      <td>TCHAOUROU</td>\n",
       "      <td>NaN</td>\n",
       "      <td>NaN</td>\n",
       "      <td>NaN</td>\n",
       "      <td>ALAFIAROU</td>\n",
       "      <td>KOKO</td>\n",
       "      <td>Koko</td>\n",
       "      <td>KOKO GBEROUKPANIN</td>\n",
       "      <td>PAR-C-0254-04</td>\n",
       "      <td>...</td>\n",
       "      <td>FAUX</td>\n",
       "      <td>FAUX</td>\n",
       "      <td>FAUX</td>\n",
       "      <td>FAUX</td>\n",
       "      <td>NaN</td>\n",
       "      <td>SUISSE</td>\n",
       "      <td>BEST SD ASEHA</td>\n",
       "      <td>NaN</td>\n",
       "      <td>0</td>\n",
       "      <td>0.00</td>\n",
       "    </tr>\n",
       "    <tr>\n",
       "      <th>3</th>\n",
       "      <td>BORGOU</td>\n",
       "      <td>TCHAOUROU</td>\n",
       "      <td>NaN</td>\n",
       "      <td>NaN</td>\n",
       "      <td>NaN</td>\n",
       "      <td>ALAFIAROU</td>\n",
       "      <td>KOKO</td>\n",
       "      <td>Ayégourou</td>\n",
       "      <td>Ayégourou</td>\n",
       "      <td>PAR-C-0189-04</td>\n",
       "      <td>...</td>\n",
       "      <td>FAUX</td>\n",
       "      <td>FAUX</td>\n",
       "      <td>FAUX</td>\n",
       "      <td>FAUX</td>\n",
       "      <td>NaN</td>\n",
       "      <td>CEAO</td>\n",
       "      <td>CEAO II</td>\n",
       "      <td>NaN</td>\n",
       "      <td>0</td>\n",
       "      <td>0.00</td>\n",
       "    </tr>\n",
       "    <tr>\n",
       "      <th>4</th>\n",
       "      <td>BORGOU</td>\n",
       "      <td>TCHAOUROU</td>\n",
       "      <td>NaN</td>\n",
       "      <td>NaN</td>\n",
       "      <td>NaN</td>\n",
       "      <td>ALAFIAROU</td>\n",
       "      <td>KOKO</td>\n",
       "      <td>Koko</td>\n",
       "      <td>Koko</td>\n",
       "      <td>PAR-C-0177-04</td>\n",
       "      <td>...</td>\n",
       "      <td>FAUX</td>\n",
       "      <td>FAUX</td>\n",
       "      <td>FAUX</td>\n",
       "      <td>FAUX</td>\n",
       "      <td>NaN</td>\n",
       "      <td>DANEMARK</td>\n",
       "      <td>DANIDA</td>\n",
       "      <td>NaN</td>\n",
       "      <td>0</td>\n",
       "      <td>0.00</td>\n",
       "    </tr>\n",
       "  </tbody>\n",
       "</table>\n",
       "<p>5 rows × 83 columns</p>\n",
       "</div>"
      ],
      "text/plain": [
       "  Departement    Commune Nom_AEV No_AEV Type_AEV_ Arrondissement   Village  \\\n",
       "0      BORGOU  TCHAOUROU     NaN    NaN       NaN      ALAFIAROU     KODA    \n",
       "1      BORGOU  TCHAOUROU     NaN    NaN       NaN        BETEROU  BANIGRI    \n",
       "2      BORGOU  TCHAOUROU     NaN    NaN       NaN      ALAFIAROU     KOKO    \n",
       "3      BORGOU  TCHAOUROU     NaN    NaN       NaN      ALAFIAROU     KOKO    \n",
       "4      BORGOU  TCHAOUROU     NaN    NaN       NaN      ALAFIAROU     KOKO    \n",
       "\n",
       "    Localite          Nom_Local     Indice_IRH  ... Compteur Manometre Tamis  \\\n",
       "0       Koda            Patanti  SAV-A-0016-04  ...     FAUX      FAUX  FAUX   \n",
       "1    Banigri            BANIGRI  INC-C-0130-04  ...     FAUX      FAUX  FAUX   \n",
       "2       Koko  KOKO GBEROUKPANIN  PAR-C-0254-04  ...     FAUX      FAUX  FAUX   \n",
       "3  Ayégourou          Ayégourou  PAR-C-0189-04  ...     FAUX      FAUX  FAUX   \n",
       "4       Koko               Koko  PAR-C-0177-04  ...     FAUX      FAUX  FAUX   \n",
       "\n",
       "  SONEB Etat_AEV  Expr1004       Expr1005 A_Ouvrage_Id.Info_Programme  \\\n",
       "0  FAUX      NaN      PNUD           PNUD                         NaN   \n",
       "1  FAUX      NaN      PNUD         UNICEF                         NaN   \n",
       "2  FAUX      NaN    SUISSE  BEST SD ASEHA                         NaN   \n",
       "3  FAUX      NaN      CEAO        CEAO II                         NaN   \n",
       "4  FAUX      NaN  DANEMARK         DANIDA                         NaN   \n",
       "\n",
       "  Hauteur_Margelle Debit_Fin_Foration  \n",
       "0                0               1.33  \n",
       "1                0               0.00  \n",
       "2                0               0.00  \n",
       "3                0               0.00  \n",
       "4                0               0.00  \n",
       "\n",
       "[5 rows x 83 columns]"
      ]
     },
     "execution_count": 3,
     "metadata": {},
     "output_type": "execute_result"
    }
   ],
   "source": [
    "donnees_techniques.head()"
   ]
  },
  {
   "cell_type": "code",
   "execution_count": 4,
   "id": "8ce43b67-0cd0-4b89-869b-4bac39d16eaf",
   "metadata": {},
   "outputs": [
    {
     "name": "stdout",
     "output_type": "stream",
     "text": [
      "Index(['Departement', 'Commune', 'Nom_AEV', 'No_AEV', 'Type_AEV_',\n",
      "       'Arrondissement', 'Village', 'Localite', 'Nom_Local', 'Indice_IRH',\n",
      "       'Hors_Parc', 'Ouvrage_Positif', 'Usage_Ouvrage', 'Type_Ouvrage',\n",
      "       'Type_SE', 'etat_ouvrage', 'Perennite', 'Propriete_Ouvrage',\n",
      "       'DateCreat', 'DateModif', 'Categorie', 'No_Localite', 'Pop_Ajustee',\n",
      "       'Annee_Actuelle', 'Autre_Nom', 'Id_Financement', 'Id_Programme',\n",
      "       'A_Ouvrage_Id.Entreprise', 'Annee_Fin', 'Type_Exhaure',\n",
      "       'Id_Unite_Hydro', 'Nom Unité hydro', 'Longitude', 'Latitude', 'xCoord',\n",
      "       'yCoord', 'Prof_Totale', 'Prof_Toit', 'Prof_Mur', 'Lithologie',\n",
      "       'Date_Foration', 'Prof_Equipee', 'Prof_Sup_Crep', 'Longueur_Crep',\n",
      "       'Prof_Inf_Crep', 'Geomorphologie', 'Date_Dvpt', 'Debit_Dvpt',\n",
      "       'Niv_Statique', 'Date_Niveau', 'Debit_Exploitable', 'Debit_Equipe',\n",
      "       'rqtListe_Pompe.Modele_Pompe', 'rqtListe_Pompe.Cote_Install',\n",
      "       'Date_Essai', 'Conductivite', 'Potabilite', 'A_Pmotor.Info_Programme',\n",
      "       'A_Pmotor.Modele_Pompe', 'Puissance_Pompe', 'Energie',\n",
      "       'A_Pmotor.Entreprise', 'Info_Entreprise', 'A_Pmotor.Cote_Install',\n",
      "       'AM_Install', 'Modele_Groupe', 'Puissance_Groupe', 'Puissance_Crete',\n",
      "       'Puissance_Eolienne', 'Vanne', 'Ventouse', 'Clapet', 'Anti_Belier',\n",
      "       'Compteur', 'Manometre', 'Tamis', 'SONEB', 'Etat_AEV', 'Expr1004',\n",
      "       'Expr1005', 'A_Ouvrage_Id.Info_Programme', 'Hauteur_Margelle',\n",
      "       'Debit_Fin_Foration'],\n",
      "      dtype='object')\n"
     ]
    }
   ],
   "source": [
    "print(donnees_techniques.columns)"
   ]
  },
  {
   "cell_type": "code",
   "execution_count": 5,
   "id": "b0a18d41-dd3e-480f-acb6-568cd0902677",
   "metadata": {},
   "outputs": [
    {
     "data": {
      "text/plain": [
       "count      490.000000\n",
       "mean      2667.390327\n",
       "std       9623.959046\n",
       "min          7.500000\n",
       "25%         43.127500\n",
       "50%         55.130000\n",
       "75%         63.575000\n",
       "max      39567.000000\n",
       "Name: Prof_Totale, dtype: float64"
      ]
     },
     "execution_count": 5,
     "metadata": {},
     "output_type": "execute_result"
    }
   ],
   "source": [
    "donnees_techniques[\"Prof_Totale\"].describe()"
   ]
  },
  {
   "cell_type": "code",
   "execution_count": 6,
   "id": "126d992d-5056-4ff2-9f38-d6f5fa9470dc",
   "metadata": {},
   "outputs": [
    {
     "data": {
      "image/png": "[encoded data removed]",
      "text/plain": [
       "<Figure size 1000x200 with 1 Axes>"
      ]
     },
     "metadata": {},
     "output_type": "display_data"
    }
   ],
   "source": [
    "#Réalisation d'un boxblot pour la visualisation des données de profondeur totale\n",
    "import seaborn as sns\n",
    "import matplotlib.pyplot as plt\n",
    "\n",
    "plt.figure(figsize=(10, 2))\n",
    "sns.boxplot(x=donnees_techniques['Prof_Totale'])\n",
    "plt.show()"
   ]
  },
  {
   "cell_type": "markdown",
   "id": "da50e952-fad0-4389-a984-05c7059f5bfb",
   "metadata": {},
   "source": [
    "L’analyse statistique des profondeurs totales met en évidence une distribution fortement dissymétrique, caractérisée par la présence de plusieurs valeurs aberrantes significatives. Ces dernières se manifestent par des points éloignés du reste de l’échantillon, dépassant largement les limites supérieures définies par l’intervalle interquartile. Cette dispersion indique une hétérogénéité marquée des profondeurs relevées, pouvant résulter soit de contextes géologiques très variés, soit d’erreurs potentielles de mesure ou de saisie. Dans le cas de cette étude, il s'agit d'erreurs de saisie. En effet, d'après la littérature, les forages en zone de socle au Bénin dépassent rarement les 100 m de profondeur. Il faut donc supprimer les valeurs aberrantes en tenant compte de cela. Nous allons utiliser dans un premier temps, la méthode du calcul des quartiles. "
   ]
  },
  {
   "cell_type": "code",
   "execution_count": 7,
   "id": "d476e13a-f16e-4ef2-a153-e823af5bda15",
   "metadata": {},
   "outputs": [
    {
     "name": "stdout",
     "output_type": "stream",
     "text": [
      "Borne min : 12.46, Borne max : 94.25\n"
     ]
    }
   ],
   "source": [
    "#Supprimer les valeurs manquantes\n",
    "prof_totale_clean = donnees_techniques['Prof_Totale'].dropna()\n",
    "\n",
    "#Calcul des quartiles\n",
    "Q1 = prof_totale_clean.quantile(0.25)\n",
    "Q3 = prof_totale_clean.quantile(0.75)\n",
    "IQR = Q3 - Q1\n",
    "\n",
    "#Définition des bornes\n",
    "borne_min = Q1 - 1.5 * IQR\n",
    "borne_max = Q3 + 1.5 * IQR\n",
    "\n",
    "print(f\"Borne min : {borne_min:.2f}, Borne max : {borne_max:.2f}\")"
   ]
  },
  {
   "cell_type": "code",
   "execution_count": 8,
   "id": "313b1618-aa61-461b-8d9b-3d86942b36dd",
   "metadata": {},
   "outputs": [],
   "source": [
    "#Filtrer les données valides\n",
    "prof_totale_valide = prof_totale_clean[(prof_totale_clean >= borne_min) & (prof_totale_clean <= borne_max)]"
   ]
  },
  {
   "cell_type": "code",
   "execution_count": 9,
   "id": "ba49908f-cf60-4fb8-a6cb-c51b3c7ef355",
   "metadata": {},
   "outputs": [
    {
     "data": {
      "text/plain": [
       "count    447.000000\n",
       "mean      53.380671\n",
       "std       12.576389\n",
       "min       23.000000\n",
       "25%       43.000000\n",
       "50%       54.000000\n",
       "75%       61.365000\n",
       "max       91.150000\n",
       "Name: Prof_Totale, dtype: float64"
      ]
     },
     "execution_count": 9,
     "metadata": {},
     "output_type": "execute_result"
    }
   ],
   "source": [
    "prof_totale_valide.describe()"
   ]
  },
  {
   "cell_type": "code",
   "execution_count": 10,
   "id": "ec2f7a58-22d6-4f11-bde9-2e1438af886e",
   "metadata": {},
   "outputs": [
    {
     "data": {
      "image/png": "[encoded data removed]",
      "text/plain": [
       "<Figure size 1000x200 with 1 Axes>"
      ]
     },
     "metadata": {},
     "output_type": "display_data"
    }
   ],
   "source": [
    "#Vsualisation des données de profondeur totale aorès la suppression des valeurs aberrantes\n",
    "import seaborn as sns\n",
    "import matplotlib.pyplot as plt\n",
    "\n",
    "plt.figure(figsize=(10, 2))\n",
    "sns.boxplot(x=prof_totale_valide)\n",
    "plt.show()"
   ]
  },
  {
   "cell_type": "code",
   "execution_count": 11,
   "id": "1bd233a7-0b58-4322-8190-03fd7663d808",
   "metadata": {},
   "outputs": [
    {
     "name": "stdout",
     "output_type": "stream",
     "text": [
      "Nombre de valeurs aberrantes : 43\n",
      "22     39527.00\n",
      "23     39525.00\n",
      "94     39566.00\n",
      "99     30596.00\n",
      "125    39567.00\n",
      "135    30694.00\n",
      "155    39540.00\n",
      "199    39523.00\n",
      "204       98.00\n",
      "304    30460.00\n",
      "366    32486.00\n",
      "485    39477.00\n",
      "495    39534.00\n",
      "506    38398.00\n",
      "518    39564.00\n",
      "521        7.50\n",
      "543    39561.00\n",
      "553    39560.00\n",
      "604    30602.00\n",
      "617      100.00\n",
      "622      116.15\n",
      "625      103.80\n",
      "626      103.80\n",
      "653       97.85\n",
      "654      120.00\n",
      "655      100.00\n",
      "666    30725.00\n",
      "723    39474.00\n",
      "752    39564.00\n",
      "841    30727.00\n",
      "848    39539.00\n",
      "874    39566.00\n",
      "875    39535.00\n",
      "881    39482.00\n",
      "893    39531.00\n",
      "906    39529.00\n",
      "914    39532.00\n",
      "916    39533.00\n",
      "941    39480.00\n",
      "942    39478.00\n",
      "943    39479.00\n",
      "967    39478.00\n",
      "968    39481.00\n",
      "Name: Prof_Totale, dtype: float64\n"
     ]
    }
   ],
   "source": [
    "#Vérification des valeurs aberrantes supprimées\n",
    "valeurs_aberrantes = prof_totale_clean[(prof_totale_clean < borne_min) | (prof_totale_clean > borne_max)]\n",
    "\n",
    "# Affichage\n",
    "print(f\"Nombre de valeurs aberrantes : {len(valeurs_aberrantes)}\")\n",
    "print(valeurs_aberrantes)"
   ]
  },
  {
   "cell_type": "markdown",
   "id": "54e2af4b-cf78-45ac-8953-eaeb42c4b834",
   "metadata": {},
   "source": [
    "Cette méthode a permis d'obtenir des valeurs de profondeurs de forages variant entre 23 m et 91.15 m. Bien que ces valeurs soient représentatives des profondeurs des forages en zone de socle au Bénin, on remarque que la méthode utilisée a supprimé de nombreuses valeurs pertinentes pour l'étude comme 98 m. En plus, sur la zone d'étude, il existe bien quelques forages ayant des profondeurs au-delà de 100 m. Pour l'étude, nous allons garder ces forages."
   ]
  },
  {
   "cell_type": "code",
   "execution_count": 12,
   "id": "6d28e778-e7dd-4ae7-b5e9-c3c2a91076ae",
   "metadata": {},
   "outputs": [],
   "source": [
    "valeurs_extremes = valeurs_aberrantes[valeurs_aberrantes > 120][valeurs_aberrantes < 10] \n",
    "valeurs_suspectes_basses = valeurs_aberrantes[valeurs_aberrantes <= 150][valeurs_aberrantes >= 10]"
   ]
  },
  {
   "cell_type": "code",
   "execution_count": 13,
   "id": "44e71ebf-b984-4659-ae53-a967bad7850e",
   "metadata": {},
   "outputs": [],
   "source": [
    "# Reconstituer la série\n",
    "prof_totale_corrigee = pd.concat([prof_totale_valide, valeurs_suspectes_basses]).sort_index()"
   ]
  },
  {
   "cell_type": "code",
   "execution_count": 14,
   "id": "67916c25-e9aa-46b8-a6f9-ce1ed9fde96e",
   "metadata": {},
   "outputs": [
    {
     "data": {
      "text/plain": [
       "count    455.000000\n",
       "mean      54.287385\n",
       "std       14.231042\n",
       "min       23.000000\n",
       "25%       43.020000\n",
       "50%       54.500000\n",
       "75%       61.435000\n",
       "max      120.000000\n",
       "Name: Prof_Totale, dtype: float64"
      ]
     },
     "execution_count": 14,
     "metadata": {},
     "output_type": "execute_result"
    }
   ],
   "source": [
    "prof_totale_corrigee.describe()"
   ]
  },
  {
   "cell_type": "markdown",
   "id": "2098021c-1b97-4125-83b7-c4acdc3d8ce5",
   "metadata": {},
   "source": [
    "L'étude consiste à connaitre le nombre de forages en fonction des profondeurs. Pour le faire, les profondeurs seront mises en classes. Afin de déterminer le nombre de classes, la formule utilisée est celle de Sturges (1926) : C = 1 + 3,3 log (n) C : nombre de classes  n : taille de l’échantillon (l’effectif). Pour ce qui est de l'intervale des classes, la formule utilisée est I = (𝑋𝑚𝑎𝑠−𝑋𝑚𝑖n)/C"
   ]
  },
  {
   "cell_type": "code",
   "execution_count": 15,
   "id": "63d31735-a954-46d2-8de9-08a6d7ba3149",
   "metadata": {},
   "outputs": [
    {
     "name": "stdout",
     "output_type": "stream",
     "text": [
      "Nombre de classes (Sturges) : 9\n"
     ]
    }
   ],
   "source": [
    "import numpy as np\n",
    "\n",
    "n = len(prof_totale_corrigee)\n",
    "\n",
    "C = int(1 + 3.3 * np.log10(n))\n",
    "\n",
    "print(f\"Nombre de classes (Sturges) : {C}\")"
   ]
  },
  {
   "cell_type": "code",
   "execution_count": 16,
   "id": "f7947511-b5ca-4ff5-929c-23b17b9a8217",
   "metadata": {},
   "outputs": [
    {
     "name": "stdout",
     "output_type": "stream",
     "text": [
      "Amplitude des classes : 10.78\n"
     ]
    }
   ],
   "source": [
    "xmin = prof_totale_corrigee.min()\n",
    "xmax = prof_totale_corrigee.max()\n",
    "\n",
    "I = (xmax - xmin) / C\n",
    "\n",
    "print(f\"Amplitude des classes : {I:.2f}\")"
   ]
  },
  {
   "cell_type": "code",
   "execution_count": 17,
   "id": "cd6ac9b0-2479-4ae4-88bf-b50c9d0644ed",
   "metadata": {},
   "outputs": [
    {
     "name": "stdout",
     "output_type": "stream",
     "text": [
      "Liste des classes :\n",
      "[23.00 – 33.78[\n",
      "[33.78 – 44.56[\n",
      "[44.56 – 55.33[\n",
      "[55.33 – 66.11[\n",
      "[66.11 – 76.89[\n",
      "[76.89 – 87.67[\n",
      "[87.67 – 98.44[\n",
      "[98.44 – 109.22[\n",
      "[109.22 – 120.00[\n"
     ]
    }
   ],
   "source": [
    "# Détermination des bornes des classes\n",
    "bornes_classes = np.arange(xmin, xmax + I, I)\n",
    "\n",
    "# Affichage des intervalles\n",
    "classes = []\n",
    "for i in range(len(bornes_classes) - 1):\n",
    "    classes.append(f\"[{bornes_classes[i]:.2f} – {bornes_classes[i+1]:.2f}[\")  # intervalle semi-ouvert\n",
    "\n",
    "print(\"Liste des classes :\")\n",
    "for c in classes:\n",
    "    print(c)"
   ]
  },
  {
   "cell_type": "code",
   "execution_count": 18,
   "id": "8b14a206-d030-49dc-bcc3-9f0b114c8498",
   "metadata": {},
   "outputs": [
    {
     "name": "stdout",
     "output_type": "stream",
     "text": [
      "Liste des classes avec pourcentages :\n",
      "\n",
      "[23.00 – 33.78[ : 22 valeurs (4.8%)\n",
      "[33.78 – 44.56[ : 107 valeurs (23.5%)\n",
      "[44.56 – 55.33[ : 124 valeurs (27.3%)\n",
      "[55.33 – 66.11[ : 126 valeurs (27.7%)\n",
      "[66.11 – 76.89[ : 51 valeurs (11.2%)\n",
      "[76.89 – 87.67[ : 14 valeurs (3.1%)\n",
      "[87.67 – 98.44[ : 5 valeurs (1.1%)\n",
      "[98.44 – 109.22[ : 4 valeurs (0.9%)\n",
      "[109.22 – 120.00[ : 2 valeurs (0.4%)\n"
     ]
    }
   ],
   "source": [
    "# Histogramme : counts = effectif, bin_edges = bornes\n",
    "counts, bin_edges = np.histogram(prof_totale_corrigee, bins=bornes_classes)\n",
    "\n",
    "# Nombre total de forages\n",
    "total = counts.sum()\n",
    "\n",
    "# Affichage des classes et effectifs\n",
    "print(\"Liste des classes avec pourcentages :\\n\")\n",
    "for i in range(len(counts)):\n",
    "    pourcentage = (counts[i] / total) * 100\n",
    "    print(f\"[{bin_edges[i]:.2f} – {bin_edges[i+1]:.2f}[ : {counts[i]} valeurs ({pourcentage:.1f}%)\")"
   ]
  },
  {
   "cell_type": "code",
   "execution_count": 19,
   "id": "845577ad-19c0-436d-a199-6eb1733bdfee",
   "metadata": {},
   "outputs": [
    {
     "data": {
      "image/png": "[encoded data removed]",
      "text/plain": [
       "<Figure size 1000x600 with 1 Axes>"
      ]
     },
     "metadata": {},
     "output_type": "display_data"
    }
   ],
   "source": [
    "# Création des étiquettes de classes pour l'axe x\n",
    "etiquettes_classes = [f\"[{bin_edges[i]:.2f} – {bin_edges[i+1]:.2f}[\" for i in range(len(counts))]\n",
    "\n",
    "# Tracer l'histogramme\n",
    "plt.figure(figsize=(10, 6))\n",
    "plt.bar(etiquettes_classes, counts, color='skyblue', edgecolor='black')\n",
    "\n",
    "plt.xlabel(\"Classes de profondeur (m)\")\n",
    "plt.ylabel(\"Nombre de forages\")\n",
    "plt.xticks(rotation=45, ha='right')\n",
    "plt.grid(axis='y', linestyle='--', alpha=0.7)\n",
    "plt.tight_layout()\n",
    "plt.show()"
   ]
  },
  {
   "cell_type": "markdown",
   "id": "2cfc406f-f2db-4e27-86ae-097ccc02c474",
   "metadata": {},
   "source": [
    "L'étude montre que les forages de Parakou et de Tchaourou ont des pronfondeurs qui varient majoritairement (près de 60%) entre 45 m et 67 m. Cela correspond aux travaux de Vouillamouz et al, 2015 qui ont trouvé que sur la zone de socle béninoise, 50% des forages positifs ont une profondeur qui se trouve entre 43 et 60 m."
   ]
  },
  {
   "cell_type": "code",
   "execution_count": 20,
   "id": "0166b39f-cc74-4131-a177-3cdb6c0904d0",
   "metadata": {},
   "outputs": [],
   "source": [
    "#Exportation des altération corrigées vers un csv\n",
    "prof_totale_corrigee.to_csv(\"D:/Formations/Data analysis Python/Data/profondeur.csv\", index=False)"
   ]
  },
  {
   "cell_type": "code",
   "execution_count": null,
   "id": "d5a1b075-3e0a-45ca-9a06-5ced96d9c60e",
   "metadata": {},
   "outputs": [],
   "source": []
  }
 ],
 "metadata": {
  "kernelspec": {
   "display_name": "Python 3 (ipykernel)",
   "language": "python",
   "name": "python3"
  },
  "language_info": {
   "codemirror_mode": {
    "name": "ipython",
    "version": 3
   },
   "file_extension": ".py",
   "mimetype": "text/x-python",
   "name": "python",
   "nbconvert_exporter": "python",
   "pygments_lexer": "ipython3",
   "version": "3.12.0"
  }
 },
 "nbformat": 4,
 "nbformat_minor": 5
}
