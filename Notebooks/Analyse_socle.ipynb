{
 "cells": [
  {
   "cell_type": "code",
   "execution_count": 1,
   "id": "1fef1e54-c512-4feb-9876-1b8044f960db",
   "metadata": {},
   "outputs": [],
   "source": [
    "import pandas as pd\n",
    "donnees_techniques = pd.read_csv(\"D:/Formations/Data analysis Python/Data/RT_donnees_techniques_Par_Tch.csv\")"
   ]
  },
  {
   "cell_type": "code",
   "execution_count": 2,
   "id": "75dd3e65-a8f4-40b0-9296-674b3893944e",
   "metadata": {},
   "outputs": [],
   "source": [
    "prof_mur = donnees_techniques[\"Prof_Mur\"]\n",
    "prof_toit = donnees_techniques[\"Prof_Toit\"]"
   ]
  },
  {
   "cell_type": "code",
   "execution_count": 3,
   "id": "c6520aff-faa8-4538-88fe-925c64b11911",
   "metadata": {},
   "outputs": [],
   "source": [
    "# Calcul de l'épaisseur forée dans le socle\n",
    "epaisseur_socle = prof_mur - prof_toit"
   ]
  },
  {
   "cell_type": "code",
   "execution_count": 4,
   "id": "d089ca78-fa04-491d-95c4-54a9a12fbfad",
   "metadata": {},
   "outputs": [
    {
     "data": {
      "text/plain": [
       "count    227.000000\n",
       "mean      29.091322\n",
       "std       17.554799\n",
       "min      -52.450000\n",
       "25%       19.265000\n",
       "50%       29.200000\n",
       "75%       39.095000\n",
       "max       81.150000\n",
       "dtype: float64"
      ]
     },
     "execution_count": 4,
     "metadata": {},
     "output_type": "execute_result"
    }
   ],
   "source": [
    "epaisseur_socle.describe()"
   ]
  },
  {
   "cell_type": "markdown",
   "id": "4923bbd0-510d-4037-b96c-41091e2f171f",
   "metadata": {},
   "source": [
    "Afin de déterminer l'épaisseur de socle foré, nous avons fait une soustraction entre la profondeur du mur et celui du toit pour chacun des forages. Cela signifie que pour chaque forage, les valeurs de profondeur du mur doivent être supérieures à celles du toit. En cas de valeur négative pour l'épaisseur de socle, on a affaire à une valeur aberrante et la ligne doit être supprimée. On va donc procéder à une suppression de toutes les lignes avec les valeurs négatives."
   ]
  },
  {
   "cell_type": "code",
   "execution_count": 5,
   "id": "bfdcb5f1-a87c-47d4-8547-3e4b4e757d82",
   "metadata": {},
   "outputs": [
    {
     "name": "stdout",
     "output_type": "stream",
     "text": [
      "count    218.000000\n",
      "mean      30.824358\n",
      "std       15.345397\n",
      "min        0.330000\n",
      "25%       21.320000\n",
      "50%       29.850000\n",
      "75%       39.787500\n",
      "max       81.150000\n",
      "dtype: float64\n"
     ]
    }
   ],
   "source": [
    "# Garder uniquement les lignes avec une épaisseur positive\n",
    "epaisseur_socle1 = epaisseur_socle[epaisseur_socle > 0]\n",
    "print(epaisseur_socle1.describe())"
   ]
  },
  {
   "cell_type": "code",
   "execution_count": 6,
   "id": "ed8a0a53-597b-42ce-9b85-853fe300e4c9",
   "metadata": {},
   "outputs": [
    {
     "data": {
      "image/png": "[encoded data removed]",
      "text/plain": [
       "<Figure size 1000x200 with 1 Axes>"
      ]
     },
     "metadata": {},
     "output_type": "display_data"
    }
   ],
   "source": [
    "#Visualisation des données après suppression des lignes négatives\n",
    "import seaborn as sns\n",
    "import matplotlib.pyplot as plt\n",
    "\n",
    "plt.figure(figsize=(10, 2))\n",
    "sns.boxplot(x=epaisseur_socle1)\n",
    "plt.show()"
   ]
  },
  {
   "cell_type": "markdown",
   "id": "63a52551-747e-41ad-8e6b-406ac7b517ab",
   "metadata": {},
   "source": [
    "En considérant les statistiques après la première correction et le diagramme en moustaches, on remarque que la valeur minimale est de 0.33 m. Un tel épaisseur de socle peut également être considéré comme inutile dans notre cas d'étude. Nous allons considérer une valeur minimale de 5m pour effectuer notre étude"
   ]
  },
  {
   "cell_type": "code",
   "execution_count": 7,
   "id": "316d1ed6-fd51-4525-80a5-b976fe806eff",
   "metadata": {},
   "outputs": [
    {
     "data": {
      "text/html": [
       "<div>\n",
       "<style scoped>\n",
       "    .dataframe tbody tr th:only-of-type {\n",
       "        vertical-align: middle;\n",
       "    }\n",
       "\n",
       "    .dataframe tbody tr th {\n",
       "        vertical-align: top;\n",
       "    }\n",
       "\n",
       "    .dataframe thead th {\n",
       "        text-align: right;\n",
       "    }\n",
       "</style>\n",
       "<table border=\"1\" class=\"dataframe\">\n",
       "  <thead>\n",
       "    <tr style=\"text-align: right;\">\n",
       "      <th></th>\n",
       "      <th>Prof_Toit</th>\n",
       "      <th>Prof_Mur</th>\n",
       "    </tr>\n",
       "  </thead>\n",
       "  <tbody>\n",
       "    <tr>\n",
       "      <th>128</th>\n",
       "      <td>26.00</td>\n",
       "      <td>29.34</td>\n",
       "    </tr>\n",
       "    <tr>\n",
       "      <th>331</th>\n",
       "      <td>27.00</td>\n",
       "      <td>28.17</td>\n",
       "    </tr>\n",
       "    <tr>\n",
       "      <th>479</th>\n",
       "      <td>30.48</td>\n",
       "      <td>30.81</td>\n",
       "    </tr>\n",
       "    <tr>\n",
       "      <th>782</th>\n",
       "      <td>22.00</td>\n",
       "      <td>23.21</td>\n",
       "    </tr>\n",
       "    <tr>\n",
       "      <th>976</th>\n",
       "      <td>20.00</td>\n",
       "      <td>23.21</td>\n",
       "    </tr>\n",
       "  </tbody>\n",
       "</table>\n",
       "</div>"
      ],
      "text/plain": [
       "     Prof_Toit  Prof_Mur\n",
       "128      26.00     29.34\n",
       "331      27.00     28.17\n",
       "479      30.48     30.81\n",
       "782      22.00     23.21\n",
       "976      20.00     23.21"
      ]
     },
     "execution_count": 7,
     "metadata": {},
     "output_type": "execute_result"
    }
   ],
   "source": [
    "# Filtrer les valeurs faibles (< 5 m)\n",
    "valeurs_faibles = epaisseur_socle[(epaisseur_socle > 0) & (epaisseur_socle < 5)]\n",
    "\n",
    "# Afficher les lignes correspondantes avec les colonnes utiles\n",
    "donnees_techniques.loc[valeurs_faibles.index, ['Prof_Toit', 'Prof_Mur']]"
   ]
  },
  {
   "cell_type": "code",
   "execution_count": 8,
   "id": "69fa4e9e-6fa5-4013-ae39-54a3b7c153ad",
   "metadata": {},
   "outputs": [
    {
     "data": {
      "text/html": [
       "<div>\n",
       "<style scoped>\n",
       "    .dataframe tbody tr th:only-of-type {\n",
       "        vertical-align: middle;\n",
       "    }\n",
       "\n",
       "    .dataframe tbody tr th {\n",
       "        vertical-align: top;\n",
       "    }\n",
       "\n",
       "    .dataframe thead th {\n",
       "        text-align: right;\n",
       "    }\n",
       "</style>\n",
       "<table border=\"1\" class=\"dataframe\">\n",
       "  <thead>\n",
       "    <tr style=\"text-align: right;\">\n",
       "      <th></th>\n",
       "      <th>Prof_Toit</th>\n",
       "      <th>Prof_Mur</th>\n",
       "      <th>Epaisseur_Socle</th>\n",
       "    </tr>\n",
       "  </thead>\n",
       "  <tbody>\n",
       "    <tr>\n",
       "      <th>128</th>\n",
       "      <td>26.00</td>\n",
       "      <td>29.34</td>\n",
       "      <td>3.34</td>\n",
       "    </tr>\n",
       "    <tr>\n",
       "      <th>331</th>\n",
       "      <td>27.00</td>\n",
       "      <td>28.17</td>\n",
       "      <td>1.17</td>\n",
       "    </tr>\n",
       "    <tr>\n",
       "      <th>479</th>\n",
       "      <td>30.48</td>\n",
       "      <td>30.81</td>\n",
       "      <td>0.33</td>\n",
       "    </tr>\n",
       "    <tr>\n",
       "      <th>782</th>\n",
       "      <td>22.00</td>\n",
       "      <td>23.21</td>\n",
       "      <td>1.21</td>\n",
       "    </tr>\n",
       "    <tr>\n",
       "      <th>976</th>\n",
       "      <td>20.00</td>\n",
       "      <td>23.21</td>\n",
       "      <td>3.21</td>\n",
       "    </tr>\n",
       "  </tbody>\n",
       "</table>\n",
       "</div>"
      ],
      "text/plain": [
       "     Prof_Toit  Prof_Mur  Epaisseur_Socle\n",
       "128      26.00     29.34             3.34\n",
       "331      27.00     28.17             1.17\n",
       "479      30.48     30.81             0.33\n",
       "782      22.00     23.21             1.21\n",
       "976      20.00     23.21             3.21"
      ]
     },
     "execution_count": 8,
     "metadata": {},
     "output_type": "execute_result"
    }
   ],
   "source": [
    "# Afficher Prof_Toit, Prof_Mur et l'épaisseur de socle pour les cas faibles\n",
    "donnees_techniques.loc[valeurs_faibles.index, ['Prof_Toit', 'Prof_Mur']].assign(Epaisseur_Socle=valeurs_faibles)"
   ]
  },
  {
   "cell_type": "code",
   "execution_count": 9,
   "id": "7c734b60-ebd7-47d5-a4cb-b9f11a3094d7",
   "metadata": {},
   "outputs": [
    {
     "name": "stdout",
     "output_type": "stream",
     "text": [
      "count    213.000000\n",
      "mean      31.504460\n",
      "std       14.857287\n",
      "min        5.250000\n",
      "25%       22.000000\n",
      "50%       30.000000\n",
      "75%       40.420000\n",
      "max       81.150000\n",
      "dtype: float64\n"
     ]
    }
   ],
   "source": [
    "epaisseur_socle_valide = epaisseur_socle[epaisseur_socle >= 5]\n",
    "print(epaisseur_socle_valide.describe())"
   ]
  },
  {
   "cell_type": "code",
   "execution_count": 10,
   "id": "731ee97e-56b1-45c5-9f74-8907590ae24d",
   "metadata": {},
   "outputs": [
    {
     "name": "stdout",
     "output_type": "stream",
     "text": [
      "Nombre de classes (Sturges) : 8\n"
     ]
    }
   ],
   "source": [
    "import numpy as np\n",
    "\n",
    "# Taille de l'échantillon après nettoyage\n",
    "n = len(epaisseur_socle_valide)\n",
    "# Calcul du nombre de classes avec la formule de Sturges\n",
    "C = int(1 + 3.3 * np.log10(n))\n",
    "\n",
    "print(f\"Nombre de classes (Sturges) : {C}\")"
   ]
  },
  {
   "cell_type": "code",
   "execution_count": 11,
   "id": "a2fad04e-0df2-41fa-b2a5-03c949ae2bb4",
   "metadata": {},
   "outputs": [
    {
     "name": "stdout",
     "output_type": "stream",
     "text": [
      "Amplitude des classes : 9.49\n"
     ]
    }
   ],
   "source": [
    "#Détermination des bornes min et max\n",
    "xmin = epaisseur_socle_valide.min()\n",
    "xmax = epaisseur_socle_valide.max()\n",
    "\n",
    "# Amplitude des classes\n",
    "I = (xmax - xmin) / C\n",
    "\n",
    "print(f\"Amplitude des classes : {I:.2f}\")"
   ]
  },
  {
   "cell_type": "code",
   "execution_count": 12,
   "id": "b06fc5f9-3157-4514-8cf0-3391cf9e8c85",
   "metadata": {},
   "outputs": [
    {
     "name": "stdout",
     "output_type": "stream",
     "text": [
      "Liste des classes :\n",
      "[5.25 – 14.74[\n",
      "[14.74 – 24.23[\n",
      "[24.23 – 33.71[\n",
      "[33.71 – 43.20[\n",
      "[43.20 – 52.69[\n",
      "[52.69 – 62.18[\n",
      "[62.18 – 71.66[\n",
      "[71.66 – 81.15[\n"
     ]
    }
   ],
   "source": [
    "# xmin, xmax et I sont déjà définis\n",
    "bornes_classes = np.arange(xmin, xmax + I, I)\n",
    "\n",
    "# Affichage des intervalles\n",
    "classes = []\n",
    "for i in range(len(bornes_classes) - 1):\n",
    "    classes.append(f\"[{bornes_classes[i]:.2f} – {bornes_classes[i+1]:.2f}[\")  # intervalle semi-ouvert\n",
    "\n",
    "print(\"Liste des classes :\")\n",
    "for c in classes:\n",
    "    print(c)"
   ]
  },
  {
   "cell_type": "code",
   "execution_count": 13,
   "id": "d92a261c-55b5-4e99-b82e-6e6ae1cd6179",
   "metadata": {},
   "outputs": [
    {
     "name": "stdout",
     "output_type": "stream",
     "text": [
      "Liste des classes avec effectifs :\n",
      "\n",
      "[5.25 – 14.74[ : 26 valeurs\n",
      "[14.74 – 24.23[ : 45 valeurs\n",
      "[24.23 – 33.71[ : 62 valeurs\n",
      "[33.71 – 43.20[ : 41 valeurs\n",
      "[43.20 – 52.69[ : 21 valeurs\n",
      "[52.69 – 62.18[ : 12 valeurs\n",
      "[62.18 – 71.66[ : 1 valeurs\n",
      "[71.66 – 81.15[ : 5 valeurs\n"
     ]
    }
   ],
   "source": [
    "# Histogramme : counts = effectif, bin_edges = bornes\n",
    "counts, bin_edges = np.histogram(epaisseur_socle_valide, bins=bornes_classes)\n",
    "\n",
    "# Affichage des classes et effectifs\n",
    "print(\"Liste des classes avec effectifs :\\n\")\n",
    "for i in range(len(counts)):\n",
    "    print(f\"[{bin_edges[i]:.2f} – {bin_edges[i+1]:.2f}[ : {counts[i]} valeurs\")"
   ]
  },
  {
   "cell_type": "code",
   "execution_count": 14,
   "id": "f811dd4f-3eb1-4270-a890-e29122fd5946",
   "metadata": {},
   "outputs": [
    {
     "data": {
      "image/png": "[encoded data removed]",
      "text/plain": [
       "<Figure size 1000x600 with 1 Axes>"
      ]
     },
     "metadata": {},
     "output_type": "display_data"
    }
   ],
   "source": [
    "# Création des étiquettes de classes pour l'axe x\n",
    "etiquettes_classes = [f\"[{bin_edges[i]:.2f} – {bin_edges[i+1]:.2f}[\" for i in range(len(counts))]\n",
    "\n",
    "# Tracer l'histogramme\n",
    "plt.figure(figsize=(10, 6))\n",
    "plt.bar(etiquettes_classes, counts, color='skyblue', edgecolor='black')\n",
    "\n",
    "plt.xlabel(\"Classes des épaisseurs de socle foré(m)\")\n",
    "plt.ylabel(\"Nombre de forages\")\n",
    "plt.xticks(rotation=45, ha='right')\n",
    "plt.grid(axis='y', linestyle='--', alpha=0.7)\n",
    "plt.tight_layout()\n",
    "plt.show()"
   ]
  },
  {
   "cell_type": "code",
   "execution_count": 17,
   "id": "400b00a9-83cb-43a0-8688-aaebd069247d",
   "metadata": {},
   "outputs": [],
   "source": [
    "# Transformer la Series en DataFrame avec un nom de colonne\n",
    "epaisseur_socle = epaisseur_socle_valide.to_frame(name=\"Epaisseur_Socle\")\n",
    "\n",
    "# Exporter en CSV\n",
    "epaisseur_socle.to_csv(\"D:/Formations/Data analysis Python/Data/epaisseur_socle.csv\", index=False)"
   ]
  },
  {
   "cell_type": "code",
   "execution_count": null,
   "id": "cb0744bf-0e89-46ad-af64-b2727ed4f77e",
   "metadata": {},
   "outputs": [],
   "source": []
  }
 ],
 "metadata": {
  "kernelspec": {
   "display_name": "Python 3 (ipykernel)",
   "language": "python",
   "name": "python3"
  },
  "language_info": {
   "codemirror_mode": {
    "name": "ipython",
    "version": 3
   },
   "file_extension": ".py",
   "mimetype": "text/x-python",
   "name": "python",
   "nbconvert_exporter": "python",
   "pygments_lexer": "ipython3",
   "version": "3.12.0"
  }
 },
 "nbformat": 4,
 "nbformat_minor": 5
}
