{
 "cells": [
  {
   "cell_type": "code",
   "execution_count": 1,
   "id": "e2f7680b-7bdc-4cba-beb7-8892980999cd",
   "metadata": {},
   "outputs": [],
   "source": [
    "import pandas as pd\n",
    "donnees_techniques = pd.read_csv(\"D:/Formations/Data analysis Python/Data/RT_donnees_techniques_Par_Tch.csv\")"
   ]
  },
  {
   "cell_type": "code",
   "execution_count": 2,
   "id": "1ac15dff-8581-4498-b45d-7614f375c6ca",
   "metadata": {},
   "outputs": [
    {
     "data": {
      "text/plain": [
       "count    287.000000\n",
       "mean      18.738885\n",
       "std       11.665793\n",
       "min        0.000000\n",
       "25%        9.220000\n",
       "50%       19.000000\n",
       "75%       27.525000\n",
       "max       54.000000\n",
       "Name: Prof_Toit, dtype: float64"
      ]
     },
     "execution_count": 2,
     "metadata": {},
     "output_type": "execute_result"
    }
   ],
   "source": [
    "epaisseur_alteration = donnees_techniques[\"Prof_Toit\"]\n",
    "epaisseur_alteration.describe()"
   ]
  },
  {
   "cell_type": "code",
   "execution_count": 3,
   "id": "01f854c3-fabb-4fd2-9196-2abce8405882",
   "metadata": {},
   "outputs": [
    {
     "data": {
      "image/png": "[encoded data removed]",
      "text/plain": [
       "<Figure size 1000x200 with 1 Axes>"
      ]
     },
     "metadata": {},
     "output_type": "display_data"
    }
   ],
   "source": [
    "import seaborn as sns\n",
    "import matplotlib.pyplot as plt\n",
    "\n",
    "plt.figure(figsize=(10, 2))\n",
    "sns.boxplot(x=epaisseur_alteration)\n",
    "plt.title(\"Boxplot des épaisseurs d'altération\")\n",
    "plt.show()"
   ]
  },
  {
   "cell_type": "markdown",
   "id": "3c0b588c-b306-47d3-b15e-3f7d3570673a",
   "metadata": {},
   "source": [
    "Au niveau des épaisseurs d'altération, on observe une variation entre 0 et 54 m. En zone de socle, l'altération est la première partie qu'on voit lorsqu'on effectue un forage. La valeur 0 signifie donc qu'il n'y a pas d'altération et que sur le site foré, l'horizon fissuré est la première couche. Nous avons donc entrepris ici, de supprimer les valeurs inférieures à 5 m."
   ]
  },
  {
   "cell_type": "code",
   "execution_count": 4,
   "id": "56349c30-96ab-4d88-ad04-428226c3f330",
   "metadata": {},
   "outputs": [
    {
     "data": {
      "text/html": [
       "<div>\n",
       "<style scoped>\n",
       "    .dataframe tbody tr th:only-of-type {\n",
       "        vertical-align: middle;\n",
       "    }\n",
       "\n",
       "    .dataframe tbody tr th {\n",
       "        vertical-align: top;\n",
       "    }\n",
       "\n",
       "    .dataframe thead th {\n",
       "        text-align: right;\n",
       "    }\n",
       "</style>\n",
       "<table border=\"1\" class=\"dataframe\">\n",
       "  <thead>\n",
       "    <tr style=\"text-align: right;\">\n",
       "      <th></th>\n",
       "      <th>Prof_Toit</th>\n",
       "    </tr>\n",
       "  </thead>\n",
       "  <tbody>\n",
       "    <tr>\n",
       "      <th>6</th>\n",
       "      <td>0.00</td>\n",
       "    </tr>\n",
       "    <tr>\n",
       "      <th>17</th>\n",
       "      <td>0.00</td>\n",
       "    </tr>\n",
       "    <tr>\n",
       "      <th>59</th>\n",
       "      <td>3.00</td>\n",
       "    </tr>\n",
       "    <tr>\n",
       "      <th>100</th>\n",
       "      <td>0.00</td>\n",
       "    </tr>\n",
       "    <tr>\n",
       "      <th>135</th>\n",
       "      <td>2.00</td>\n",
       "    </tr>\n",
       "    <tr>\n",
       "      <th>139</th>\n",
       "      <td>0.00</td>\n",
       "    </tr>\n",
       "    <tr>\n",
       "      <th>140</th>\n",
       "      <td>0.00</td>\n",
       "    </tr>\n",
       "    <tr>\n",
       "      <th>142</th>\n",
       "      <td>0.00</td>\n",
       "    </tr>\n",
       "    <tr>\n",
       "      <th>171</th>\n",
       "      <td>4.00</td>\n",
       "    </tr>\n",
       "    <tr>\n",
       "      <th>188</th>\n",
       "      <td>0.00</td>\n",
       "    </tr>\n",
       "    <tr>\n",
       "      <th>496</th>\n",
       "      <td>4.00</td>\n",
       "    </tr>\n",
       "    <tr>\n",
       "      <th>497</th>\n",
       "      <td>0.00</td>\n",
       "    </tr>\n",
       "    <tr>\n",
       "      <th>499</th>\n",
       "      <td>0.00</td>\n",
       "    </tr>\n",
       "    <tr>\n",
       "      <th>578</th>\n",
       "      <td>4.74</td>\n",
       "    </tr>\n",
       "    <tr>\n",
       "      <th>634</th>\n",
       "      <td>4.60</td>\n",
       "    </tr>\n",
       "    <tr>\n",
       "      <th>672</th>\n",
       "      <td>0.00</td>\n",
       "    </tr>\n",
       "    <tr>\n",
       "      <th>693</th>\n",
       "      <td>0.00</td>\n",
       "    </tr>\n",
       "    <tr>\n",
       "      <th>742</th>\n",
       "      <td>4.70</td>\n",
       "    </tr>\n",
       "    <tr>\n",
       "      <th>754</th>\n",
       "      <td>0.00</td>\n",
       "    </tr>\n",
       "    <tr>\n",
       "      <th>757</th>\n",
       "      <td>0.00</td>\n",
       "    </tr>\n",
       "    <tr>\n",
       "      <th>761</th>\n",
       "      <td>0.00</td>\n",
       "    </tr>\n",
       "    <tr>\n",
       "      <th>764</th>\n",
       "      <td>0.00</td>\n",
       "    </tr>\n",
       "    <tr>\n",
       "      <th>769</th>\n",
       "      <td>0.00</td>\n",
       "    </tr>\n",
       "    <tr>\n",
       "      <th>814</th>\n",
       "      <td>0.00</td>\n",
       "    </tr>\n",
       "    <tr>\n",
       "      <th>867</th>\n",
       "      <td>4.50</td>\n",
       "    </tr>\n",
       "    <tr>\n",
       "      <th>868</th>\n",
       "      <td>4.98</td>\n",
       "    </tr>\n",
       "    <tr>\n",
       "      <th>919</th>\n",
       "      <td>2.00</td>\n",
       "    </tr>\n",
       "    <tr>\n",
       "      <th>920</th>\n",
       "      <td>4.00</td>\n",
       "    </tr>\n",
       "    <tr>\n",
       "      <th>933</th>\n",
       "      <td>0.00</td>\n",
       "    </tr>\n",
       "    <tr>\n",
       "      <th>982</th>\n",
       "      <td>0.00</td>\n",
       "    </tr>\n",
       "    <tr>\n",
       "      <th>985</th>\n",
       "      <td>0.00</td>\n",
       "    </tr>\n",
       "  </tbody>\n",
       "</table>\n",
       "</div>"
      ],
      "text/plain": [
       "     Prof_Toit\n",
       "6         0.00\n",
       "17        0.00\n",
       "59        3.00\n",
       "100       0.00\n",
       "135       2.00\n",
       "139       0.00\n",
       "140       0.00\n",
       "142       0.00\n",
       "171       4.00\n",
       "188       0.00\n",
       "496       4.00\n",
       "497       0.00\n",
       "499       0.00\n",
       "578       4.74\n",
       "634       4.60\n",
       "672       0.00\n",
       "693       0.00\n",
       "742       4.70\n",
       "754       0.00\n",
       "757       0.00\n",
       "761       0.00\n",
       "764       0.00\n",
       "769       0.00\n",
       "814       0.00\n",
       "867       4.50\n",
       "868       4.98\n",
       "919       2.00\n",
       "920       4.00\n",
       "933       0.00\n",
       "982       0.00\n",
       "985       0.00"
      ]
     },
     "execution_count": 4,
     "metadata": {},
     "output_type": "execute_result"
    }
   ],
   "source": [
    "#Filtrer les valeurs faibles (< 5 m)\n",
    "valeurs_faibles = epaisseur_alteration[(epaisseur_alteration < 5)]\n",
    "\n",
    "# Afficher les lignes correspondantes avec les colonnes utiles\n",
    "donnees_techniques.loc[valeurs_faibles.index, ['Prof_Toit']]"
   ]
  },
  {
   "cell_type": "code",
   "execution_count": 5,
   "id": "77ddb5d1-bddc-453e-b861-443398e4c74b",
   "metadata": {},
   "outputs": [
    {
     "name": "stdout",
     "output_type": "stream",
     "text": [
      "count    256.000000\n",
      "mean      20.841953\n",
      "std       10.538809\n",
      "min        5.000000\n",
      "25%       11.000000\n",
      "50%       20.500000\n",
      "75%       28.600000\n",
      "max       54.000000\n",
      "Name: Prof_Toit, dtype: float64\n"
     ]
    }
   ],
   "source": [
    "epaisseur_alteration_valide = epaisseur_alteration[epaisseur_alteration >= 5]\n",
    "print(epaisseur_alteration_valide.describe())"
   ]
  },
  {
   "cell_type": "code",
   "execution_count": 6,
   "id": "61d59b3f-d3e9-4089-839f-e09aaceb7d2e",
   "metadata": {},
   "outputs": [
    {
     "name": "stdout",
     "output_type": "stream",
     "text": [
      "Nombre de classes (Sturges) : 8\n"
     ]
    }
   ],
   "source": [
    "import numpy as np\n",
    "\n",
    "#Détermination de la taile de l'échantilion\n",
    "n = len(epaisseur_alteration_valide)\n",
    "# Calcul du nombre de classes avec la formule de Sturges\n",
    "C = int(1 + 3.3 * np.log10(n))\n",
    "\n",
    "print(f\"Nombre de classes (Sturges) : {C}\")"
   ]
  },
  {
   "cell_type": "code",
   "execution_count": 7,
   "id": "876c12ef-e4a9-4611-9fab-7ed52cf89799",
   "metadata": {},
   "outputs": [
    {
     "name": "stdout",
     "output_type": "stream",
     "text": [
      "Amplitude des classes : 6.12\n"
     ]
    }
   ],
   "source": [
    "# Détermination des bornes min et max\n",
    "xmin = epaisseur_alteration_valide.min()\n",
    "xmax = epaisseur_alteration_valide.max()\n",
    "\n",
    "# Amplitude des classes\n",
    "I = (xmax - xmin) / C\n",
    "\n",
    "print(f\"Amplitude des classes : {I:.2f}\")"
   ]
  },
  {
   "cell_type": "code",
   "execution_count": 8,
   "id": "8fb3bdc1-1bf3-4150-bbeb-eb999d779452",
   "metadata": {},
   "outputs": [
    {
     "name": "stdout",
     "output_type": "stream",
     "text": [
      "Liste des classes :\n",
      "[5.00 – 11.12[\n",
      "[11.12 – 17.25[\n",
      "[17.25 – 23.38[\n",
      "[23.38 – 29.50[\n",
      "[29.50 – 35.62[\n",
      "[35.62 – 41.75[\n",
      "[41.75 – 47.88[\n",
      "[47.88 – 54.00[\n"
     ]
    }
   ],
   "source": [
    "bornes_classes = np.arange(xmin, xmax + I, I)\n",
    "\n",
    "# Affichage des intervalles\n",
    "classes = []\n",
    "for i in range(len(bornes_classes) - 1):\n",
    "    classes.append(f\"[{bornes_classes[i]:.2f} – {bornes_classes[i+1]:.2f}[\")  # intervalle semi-ouvert\n",
    "\n",
    "print(\"Liste des classes :\")\n",
    "for c in classes:\n",
    "    print(c)"
   ]
  },
  {
   "cell_type": "code",
   "execution_count": 9,
   "id": "f3f5306c-fcae-4eb6-899c-44b018363f25",
   "metadata": {},
   "outputs": [
    {
     "name": "stdout",
     "output_type": "stream",
     "text": [
      "Liste des classes avec pourcentages :\n",
      "\n",
      "[5.00 – 11.12[ : 65 valeurs (25.4%)\n",
      "[11.12 – 17.25[ : 36 valeurs (14.1%)\n",
      "[17.25 – 23.38[ : 56 valeurs (21.9%)\n",
      "[23.38 – 29.50[ : 38 valeurs (14.8%)\n",
      "[29.50 – 35.62[ : 36 valeurs (14.1%)\n",
      "[35.62 – 41.75[ : 16 valeurs (6.2%)\n",
      "[41.75 – 47.88[ : 7 valeurs (2.7%)\n",
      "[47.88 – 54.00[ : 2 valeurs (0.8%)\n"
     ]
    }
   ],
   "source": [
    "# Histogramme : counts = effectif, bin_edges = bornes\n",
    "counts, bin_edges = np.histogram(epaisseur_alteration_valide, bins=bornes_classes)\n",
    "\n",
    "# Nombre total de forages\n",
    "total = counts.sum()\n",
    "\n",
    "# Affichage des classes et effectifs\n",
    "print(\"Liste des classes avec pourcentages :\\n\")\n",
    "for i in range(len(counts)):\n",
    "    pourcentage = (counts[i] / total) * 100\n",
    "    print(f\"[{bin_edges[i]:.2f} – {bin_edges[i+1]:.2f}[ : {counts[i]} valeurs ({pourcentage:.1f}%)\")"
   ]
  },
  {
   "cell_type": "code",
   "execution_count": 10,
   "id": "fe42d97d-981a-40c6-9baa-b2d0a54f7825",
   "metadata": {},
   "outputs": [
    {
     "data": {
      "image/png": "[encoded data removed]",
      "text/plain": [
       "<Figure size 1000x600 with 1 Axes>"
      ]
     },
     "metadata": {},
     "output_type": "display_data"
    }
   ],
   "source": [
    "# Création des étiquettes de classes pour l'axe x\n",
    "etiquettes_classes = [f\"[{bin_edges[i]:.2f} – {bin_edges[i+1]:.2f}[\" for i in range(len(counts))]\n",
    "\n",
    "# Tracer l'histogramme\n",
    "plt.figure(figsize=(10, 6))\n",
    "plt.bar(etiquettes_classes, counts, color='skyblue', edgecolor='black')\n",
    "\n",
    "plt.xlabel(\"Classes des épaisseurs d'altération (m)\")\n",
    "plt.ylabel(\"Nombre de forages\")\n",
    "plt.xticks(rotation=45, ha='right')\n",
    "plt.grid(axis='y', linestyle='--', alpha=0.7)\n",
    "plt.tight_layout()\n",
    "plt.show()"
   ]
  },
  {
   "cell_type": "markdown",
   "id": "1f6dab72-a495-4442-bc1f-e1e1ed1f6e1e",
   "metadata": {},
   "source": [
    "L'étude montre que les forages de Parakou et de Tchaourou ont des épaisseurs d'altération qui varient majoritairement (près de 60%) entre 45 m et 67 m. Cela correspond aux travaux de Vouillamouz et al, 2015 qui ont trouvé que sur la zone de socle béninoise, 50% des forages positifs ont une profondeur qui se trouve entre 43 et 60 m."
   ]
  },
  {
   "cell_type": "code",
   "execution_count": 12,
   "id": "148e29e0-1356-4d6f-8d0d-492cf37d1304",
   "metadata": {},
   "outputs": [],
   "source": [
    "#Exportation des altération corrigées vers un csv\n",
    "epaisseur_alteration_valide.to_csv(\"debit_corrige.csv\", index=False)\n",
    "epaisseur_alteration_valide.to_csv(\"D:/Formations/Data analysis Python/Data/epaisseur_alteration.csv\", index=False)"
   ]
  },
  {
   "cell_type": "code",
   "execution_count": null,
   "id": "bd1aa5fb-1fa7-4fe0-926e-e0e2694ffeea",
   "metadata": {},
   "outputs": [],
   "source": []
  }
 ],
 "metadata": {
  "kernelspec": {
   "display_name": "Python 3 (ipykernel)",
   "language": "python",
   "name": "python3"
  },
  "language_info": {
   "codemirror_mode": {
    "name": "ipython",
    "version": 3
   },
   "file_extension": ".py",
   "mimetype": "text/x-python",
   "name": "python",
   "nbconvert_exporter": "python",
   "pygments_lexer": "ipython3",
   "version": "3.12.0"
  }
 },
 "nbformat": 4,
 "nbformat_minor": 5
}
